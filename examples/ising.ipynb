{
 "cells": [
  {
   "cell_type": "markdown",
   "id": "50786a9d-708a-4c54-9a6d-4799ceaffebd",
   "metadata": {
    "tags": []
   },
   "source": [
    "# Introduction to the Monte Carlo method\n",
    "\n",
    "Start by defining the Gibbs distribution:\n",
    "$$P(\\alpha) = e^{-E(\\alpha)/kT}$$\n",
    "this expression, defines the probability of observing a particular configuration of spins, $\\alpha$. \n",
    "As you can see, the probability of $\\alpha$ decays exponentially with increasing energy of $\\alpha$, $E(\\alpha)$,\n",
    "where $k$ is the Boltzmann constant, $k = 1.38064852 \\times 10^{-23} J/K$\n",
    "and $T$ is the temperature in Kelvin. \n",
    "\n",
    "## What defines the energy of a configuration of spins? \n",
    "Given a configuration of spins (e.g., $\\uparrow\\downarrow\\downarrow\\uparrow\\downarrow$) we can define the energy using what is referred to as an Ising Hamiltonian:\n",
    "$$ \\hat{H}' = \\frac{\\hat{H}}{k} = \\frac{J}{k}\\sum_{<ij>} s_is_j,$$\n",
    "where, $s_i=1$ if the $i^{th}$ spin is `up` and $s_i=-1$ if it is `down`, and the brackets $<ij>$ indicate a sum over spins that are connected,\n",
    "and $J$ is a constant that determines the energy scale. \n",
    "The energy here has been divided by the Boltzmann constant to yield units of temperature. \n",
    "Let's consider the following case, which has the sites connected in a single 1D line:\n",
    "$$\\alpha = \\uparrow-\\downarrow-\\downarrow-\\uparrow-\\downarrow.$$ \n",
    "What is the energy of such a configuration?\n",
    "$$ E(\\alpha)' = J/k(-1 + 1 - 1 - 1) = \\frac{E(\\alpha)}{k} = -2J/k$$\n",
    "\n",
    "## Properties\n",
    "For any fixed state, $\\alpha$, the `magnetization` ($M$) is proportional to the _excess_ number of spins pointing up or down while the energy is given by the\n",
    "Hamiltonian:\n",
    "$$M(\\alpha) = N_{\\text{up}}(\\alpha) - N_{\\text{down}}(\\alpha).$$\n",
    "As a dynamical, fluctuating system, each time you measure the magnetization, the system might be in a different state ($\\alpha$) and so you'll get a different number!\n",
    "However, we already know what the probability of measuring any particular $\\alpha$ is, so in order to compute the average magnetization, $\\left<M\\right>$, we just need to multiply the magnetization of each possible configuration times the probability of it being measured, and then add them all up!\n",
    "$$ \\left<M\\right> = \\sum_\\alpha M(\\alpha)P(\\alpha).$$\n",
    "In fact, any average value can be obtained by adding up the value of an individual configuration multiplied by it's probability:\n",
    "$$ \\left<E\\right> = \\sum_\\alpha E(\\alpha)P(\\alpha).$$\n",
    "\n",
    "This means that to obtain any average value (also known as an `expectation value`) computationally, we must compute the both the value and probability of all possible configurations. This becomes extremely expensive as the number of spins ($N$) increases. "
   ]
  },
  {
   "cell_type": "code",
   "execution_count": 1,
   "id": "8cc20c5d-c248-47d2-80ed-d650eb5c243f",
   "metadata": {},
   "outputs": [
    {
     "name": "stdout",
     "output_type": "stream",
     "text": [
      " Initialized config to:  [1 0 0 0 0 0 1 0]\n",
      " Energy of       [1 0 0 0 0 0 1 0]  is  4.04\n",
      " Probability of  [1 0 0 0 0 0 1 0]  is  0.017597472415623396\n"
     ]
    }
   ],
   "source": [
    "from numba import jit\n",
    "\n",
    "import numpy as np\n",
    "import matplotlib as mpl\n",
    "from matplotlib import pyplot as plt\n",
    "import montecarlo\n",
    "import random\n",
    "\n",
    "# boltzmann constant, k = 1.38064852 × 10-23 m^2 kg s-2 K-1\n",
    "N = 8\n",
    "\n",
    "\n",
    "conf = montecarlo.SpinConfig1D(N=N)\n",
    "conf.initialize(M=2)\n",
    "ham = montecarlo.IsingHamiltonian1D(-1.0, 1.01)\n",
    "\n",
    "Ei = ham.expectation_value(conf)\n",
    "Pi = np.e**(-Ei)\n",
    "print(\" Energy of      \", conf.config, \" is \", Ei)\n",
    "print(\" Probability of \", conf.config, \" is \", Pi)\n"
   ]
  },
  {
   "cell_type": "markdown",
   "id": "10a45589-0d1a-4952-8289-80c16a1d7859",
   "metadata": {
    "tags": []
   },
   "source": [
    "# Question 1\n",
    "How many configurations are possible for:"
   ]
  },
  {
   "cell_type": "markdown",
   "id": "fc768faf-ac45-447b-b6e5-a8da98e1e6e2",
   "metadata": {},
   "source": [
    "(a) N=10?"
   ]
  },
  {
   "cell_type": "code",
   "execution_count": null,
   "id": "b3233cea-f5e5-4bc4-933a-a97869aa698a",
   "metadata": {},
   "outputs": [],
   "source": []
  },
  {
   "cell_type": "markdown",
   "id": "8b052fb8-4a0a-486c-b19f-cebb6ebe558a",
   "metadata": {},
   "source": [
    "(b) N=100?"
   ]
  },
  {
   "cell_type": "code",
   "execution_count": null,
   "id": "0ffbb5a4-fab4-465a-a037-defcadf2bdc1",
   "metadata": {},
   "outputs": [],
   "source": []
  },
  {
   "cell_type": "markdown",
   "id": "3f6dd036-5535-4a12-9cc5-99ee947d458c",
   "metadata": {},
   "source": [
    "(c) N=1000?"
   ]
  },
  {
   "cell_type": "code",
   "execution_count": null,
   "id": "f14d7c52-3a4a-4079-b57a-65fdcefa756d",
   "metadata": {},
   "outputs": [],
   "source": []
  },
  {
   "cell_type": "markdown",
   "id": "953ea21f-d5b6-4928-857d-12a17d6c9c1d",
   "metadata": {},
   "source": [
    "# Sampling\n",
    "These calculation pose a drastic problem from a practical perspective. \n",
    " As $N$ becomes large it is evident that\n",
    "computations become a daunting task if calculated in this manner.\n",
    " Thus a better numerical alternative would be to use a simulation to generate data over\n",
    "the ‘representative states’. \n",
    "Because each computed value of a configuration gets weighted by it's probability, very high energy states (which have negligible probabilities due to the Boltzmann distribution) will not contribute to the overall sum.  \n",
    "This is a form of biased sampling which\n",
    "essentially boils down to satisfying the following condition where\n",
    "`generated frequency` = `actual probability`.\n",
    "\n",
    "An expectation value of any quantity, $A$, computed (using the Canonical Ensemble) can also be defined as:\n",
    "$$\\left<A\\right> = \\frac{1}{Z}\\int e^{-E(\\alpha)/T}A(\\alpha)d\\alpha,$$\n",
    "where $Z$ is referred to as the `partition function`, and is essentially a normalization constant:\n",
    "$$ Z = \\int e^{-E(\\alpha)/T}d\\alpha,$$ and\n",
    "$$ P(\\alpha) = \\frac{1}{Z}e^{-E(\\alpha)/T}.$$\n",
    "This probability gives the actual statistical weight with which the configuration\n",
    "$\\alpha$ occurs in the thermal equilibrium. We now want to consider the discrete case\n",
    "of the formal definitions above. If we are to consider a finite portion of the\n",
    "configuration space it would produces an average of the form:\n",
    "$$\n",
    "\\left<A\\right> = \\frac{\\displaystyle\\sum_\\alpha e^{-E'(\\alpha)/T}A(\\alpha)}{\\displaystyle\\sum_\\alpha e^{-E'(\\alpha)/T}}$$\n",
    "\n",
    "We could choose to randomly `sample` from this full set of configurations, but this will not converge quickly. "
   ]
  },
  {
   "cell_type": "code",
   "execution_count": 2,
   "id": "33785241-a4a4-449e-8cfe-7852324810f0",
   "metadata": {},
   "outputs": [
    {
     "name": "stdout",
     "output_type": "stream",
     "text": [
      "10000010\n",
      "00101110\n"
     ]
    }
   ],
   "source": [
    "import numpy as np\n",
    "import matplotlib as mpl\n",
    "from random import sample\n",
    "import copy as cp\n",
    "\n",
    "# boltzmann constant, k = 1.38064852 × 10-23 m^2 kg s-2 K-1\n",
    "energies = np.linspace(0, 10, 100);\n",
    "\n",
    "print(conf)\n",
    "conf.set_rand_config()\n",
    "\n",
    "print(conf)"
   ]
  },
  {
   "cell_type": "markdown",
   "id": "59a61e1c-d89d-412d-a5f0-4f7d04eab8a5",
   "metadata": {},
   "source": [
    "----\n",
    "# Energy/Magnetization vs Temperature (exact)"
   ]
  },
  {
   "cell_type": "code",
   "execution_count": 3,
   "id": "80798cd6-6ca0-4c9e-8934-a29a16df28a4",
   "metadata": {},
   "outputs": [
    {
     "name": "stdout",
     "output_type": "stream",
     "text": [
      " Number of configurations:  256\n",
      " Critical Temperature:   0.90000000 \n",
      "     E:   -7.63283349\n",
      "     M:    4.85549011\n",
      "     EE:   4.58941716\n",
      "     MM:  34.03986342\n",
      " Critical Temperature:   1.00000000\n",
      " E =  -3.88449265 @ T =   2.00000000\n"
     ]
    },
    {
     "data": {
      "image/png": "[encoded data removed]",
      "text/plain": [
       "<Figure size 432x288 with 1 Axes>"
      ]
     },
     "metadata": {
      "needs_background": "light"
     },
     "output_type": "display_data"
    }
   ],
   "source": [
    "print(\" Number of configurations: \", conf.n_dim)\n",
    "n_samples = 100\n",
    "\n",
    "e_list = []\n",
    "e2_list = []\n",
    "m_list = []\n",
    "m2_list = []\n",
    "T_list = []\n",
    "\n",
    "ham.J = 1.0\n",
    "ham.mu = 0.1\n",
    "for Ti in range(1,100):\n",
    "    T = .1*Ti\n",
    "    # print(T)\n",
    "    E = 0.0\n",
    "    M = 0.0\n",
    "    Z = 0.0\n",
    "    EE = 0.0\n",
    "    MM = 0.0\n",
    "\n",
    "    T_list.append(T)\n",
    "    \n",
    "    # for i in range(n_samples):\n",
    "    for i in range(conf.n_dim):\n",
    "        # conf.set_rand_config()\n",
    "        conf.set_int_config(i)\n",
    "        Ei = ham.expectation_value(conf)\n",
    "        Zi = np.exp(-Ei/T)\n",
    "        E += Ei*Zi\n",
    "        EE += Ei*Ei*Zi\n",
    "        Mi = np.sum(2*conf.config-1)\n",
    "        M += Mi*Zi\n",
    "        MM += Mi*Mi*Zi\n",
    "        Z += Zi\n",
    "        \n",
    "    e_list.append(E/Z)\n",
    "    m_list.append(M/Z)\n",
    "    e2_list.append((EE/Z-E/Z*E/Z)/(T*T))\n",
    "    m2_list.append((MM/Z-M/Z*M/Z)/T)\n",
    "    # print(\" Sum Energy = %12.8f\" %(E))\n",
    "    # print(\" Sum Norm   = %12.8f\" %(Z))\n",
    "    # print(\" Average Energy = %12.8f\" %(E/Z))\n",
    "plt.plot(T_list, e_list, label=\"energy\");\n",
    "plt.plot(T_list, m_list, label=\"magnetization\");\n",
    "plt.plot(T_list, m2_list, label=\"Susceptibility\");\n",
    "plt.plot(T_list, e2_list, label=\"Heat Capacity\");\n",
    "plt.legend();\n",
    "\n",
    "Tc_ind = np.argmax(m2_list)\n",
    "print(\" Critical Temperature: %12.8f \" %(T_list[Tc_ind]))\n",
    "print(\"     E:  %12.8f\" %(e_list[Tc_ind]))\n",
    "print(\"     M:  %12.8f\" %(m_list[Tc_ind]))\n",
    "print(\"     EE: %12.8f\" %(e2_list[Tc_ind]))\n",
    "print(\"     MM: %12.8f\" %(m2_list[Tc_ind]))\n",
    "Tc2 = T_list[np.argmax(e2_list)]\n",
    "print(\" Critical Temperature: %12.8f\" %(Tc2))\n",
    "\n",
    "print(\" E = %12.8f @ T = %12.8f\"% (e_list[T_list.index(2.00)], 2.0))"
   ]
  },
  {
   "cell_type": "markdown",
   "id": "a97b02a9-37ea-4f6c-b59b-cc0103181da6",
   "metadata": {},
   "source": [
    "----\n",
    "# Energy/Magnetization vs Temperature (Metropolis Sampling)"
   ]
  },
  {
   "cell_type": "code",
   "execution_count": 4,
   "id": "be7441e8-d4f5-4371-b8b2-05bbb38cf7e9",
   "metadata": {},
   "outputs": [],
   "source": [
    "n_samples = 10000\n",
    "T = .9\n",
    "Z = 0.0\n",
    "E = 0.0\n",
    "# Mavg = np.zeros(n_samples)\n",
    "# Eseries = np.zeros(n_samples)\n",
    "\n",
    "Ei = ham.expectation_value(conf)\n",
    "\n",
    "def sweep(conf, T, ham):\n",
    "    for site_i in range(conf.N):\n",
    "        \n",
    "        # new_conf, delta_e = ham.delta_e_for_flip(site_i, conf)      \n",
    "        delta_e = 0.0\n",
    "        \n",
    "        # assume PBC\n",
    "        iright = (site_i+1)%conf.N\n",
    "        ileft  = (site_i-1)%conf.N\n",
    "        if conf.config[ileft] == conf.config[iright]:\n",
    "            if conf.config[ileft] == conf.config[site_i]:\n",
    "                delta_e = 4.0*ham.J\n",
    "            else:\n",
    "                delta_e = -4.0*ham.J\n",
    "                \n",
    "        delta_e += 2*ham.mu * (2*conf.config[site_i]-1)\n",
    "\n",
    "\n",
    "        # prob_trans = 1.0 # probability of transitioning\n",
    "        accept = True\n",
    "        if delta_e > 0:\n",
    "            # prob_trans = np.exp(-delta_e/T)\n",
    "            if random.random() > np.exp(-delta_e/T):\n",
    "                accept = False\n",
    "        if accept:\n",
    "            if conf.config[site_i] == 0:\n",
    "                conf.config[site_i] = 1\n",
    "            else:\n",
    "                conf.config[site_i] = 0\n",
    "            # conf.flip_site(i)\n",
    "\n",
    "\n",
    "\n",
    "def compute_montecarlo(ham, conf, T, n_samples, nburn, plot=True):\n",
    "    Eseries = []\n",
    "    Eavg = 0.0\n",
    "\n",
    "    for si in range(n_samples):\n",
    "        sweep(conf, T, ham)\n",
    "        Ei = ham.expectation_value(conf)\n",
    "        if si > nburn:    \n",
    "            Eseries.append(Ei)\n",
    "        \n",
    "\n",
    "    Eavg = np.zeros(len(Eseries))\n",
    "    Estd = np.zeros(len(Eseries))\n",
    "    Eavg[0] = Eseries[0]\n",
    "    for i in range(1,len(Eseries)):\n",
    "        Eavg[i] = np.mean(Eseries[0:i])\n",
    "        Estd[i] = np.std(Eavg[0:i])\n",
    "    \n",
    "\n",
    "    if plot:\n",
    "        plt.plot(Eseries, label=\"Energy\")\n",
    "        plt.plot(Eavg, label=\"avg(E)\")\n",
    "        # plt.plot(Estd, label=\"std(E)\")\n",
    "        plt.legend()\n",
    "\n",
    "    print(\" <E> = %12.8f \" %np.mean(Eseries))\n",
    "\n",
    "    return np.mean(Eseries)\n"
   ]
  },
  {
   "cell_type": "code",
   "execution_count": 30,
   "id": "ebf5116e-b76b-4e03-a402-4fb3a345a26c",
   "metadata": {},
   "outputs": [
    {
     "name": "stdout",
     "output_type": "stream",
     "text": [
      " Initialized config to:  [0 0 0 0 0 0 0 0 0 0 0 0 0 0 0 0 0 0 0 0]\n",
      " <E> =  -9.17428714 \n",
      " Initialized config to:  [0 1 0 0 0 0 0 0 0 0 0 0 0 0 0 0 0 0 0 0]\n",
      " <E> =  -9.20720360 \n",
      " Initialized config to:  [0 1 1 0 0 0 0 0 0 0 0 0 0 0 0 0 0 0 0 0]\n",
      " <E> =  -9.16748374 \n",
      " Initialized config to:  [0 1 1 0 0 0 0 0 0 0 0 0 0 0 0 0 0 0 1 0]\n",
      " <E> =  -9.20290145 \n",
      " Initialized config to:  [0 1 1 0 0 0 0 0 0 0 0 1 0 0 0 0 0 0 1 0]\n",
      " <E> =  -9.16378189 \n",
      " Initialized config to:  [0 1 1 0 0 1 0 0 0 0 0 1 0 0 0 0 0 0 1 0]\n",
      " <E> =  -9.19419710 \n",
      " Initialized config to:  [0 1 1 0 0 1 0 0 0 0 0 1 0 0 0 0 1 0 1 0]\n",
      " <E> =  -9.20230115 \n",
      " Initialized config to:  [0 1 1 0 0 1 0 0 0 0 0 1 1 0 0 0 1 0 1 0]\n",
      " <E> =  -9.19419710 \n",
      " Initialized config to:  [0 1 1 0 0 1 0 0 0 0 1 1 1 0 0 0 1 0 1 0]\n",
      " <E> =  -9.24852426 \n",
      " Initialized config to:  [0 1 1 0 1 1 0 0 0 0 1 1 1 0 0 0 1 0 1 0]\n",
      " <E> =  -9.21230615 \n",
      " Initialized config to:  [0 1 1 0 1 1 0 0 0 0 1 1 1 0 1 0 1 0 1 0]\n",
      " <E> =  -9.16958479 \n",
      " Initialized config to:  [0 1 1 0 1 1 0 0 0 1 1 1 1 0 1 0 1 0 1 0]\n",
      " <E> =  -9.24412206 \n",
      " Initialized config to:  [0 1 1 1 1 1 0 0 0 1 1 1 1 0 1 0 1 0 1 0]\n",
      " <E> =  -9.13346673 \n",
      " Initialized config to:  [1 1 1 1 1 1 0 0 0 1 1 1 1 0 1 0 1 0 1 0]\n",
      " <E> =  -9.13566783 \n",
      " Initialized config to:  [1 1 1 1 1 1 0 0 0 1 1 1 1 1 1 0 1 0 1 0]\n",
      " <E> =  -9.27193597 \n",
      " Initialized config to:  [1 1 1 1 1 1 0 0 0 1 1 1 1 1 1 1 1 0 1 0]\n",
      " <E> =  -9.22171086 \n",
      " Initialized config to:  [1 1 1 1 1 1 0 0 0 1 1 1 1 1 1 1 1 0 1 1]\n",
      " <E> =  -9.21010505 \n",
      " Initialized config to:  [1 1 1 1 1 1 0 0 1 1 1 1 1 1 1 1 1 0 1 1]\n",
      " <E> =  -9.20230115 \n",
      " Initialized config to:  [1 1 1 1 1 1 0 0 1 1 1 1 1 1 1 1 1 1 1 1]\n",
      " <E> =  -9.13566783 \n",
      " Initialized config to:  [1 1 1 1 1 1 1 0 1 1 1 1 1 1 1 1 1 1 1 1]\n",
      " <E> =  -9.23451726 \n",
      " Initialized config to:  [1 1 1 1 1 1 1 1 1 1 1 1 1 1 1 1 1 1 1 1]\n",
      " <E> =  -9.16748374 \n",
      "\n",
      " STD of initializations:   0.03697468\n",
      " AVG of initializations:  -9.19494033\n"
     ]
    },
    {
     "data": {
      "image/png": "[encoded data removed]",
      "text/plain": [
       "<Figure size 432x288 with 1 Axes>"
      ]
     },
     "metadata": {
      "needs_background": "light"
     },
     "output_type": "display_data"
    }
   ],
   "source": [
    "# Now run the simulation\n",
    "N = 20\n",
    "\n",
    "E = []\n",
    "for i in range(N+1):\n",
    "    conf = montecarlo.SpinConfig1D(N=N)\n",
    "    conf.initialize(M=i)\n",
    "    Ei = compute_montecarlo(ham, conf, 2, 10000, 8000, plot=False)\n",
    "    E.append(Ei)\n",
    "\n",
    "print()\n",
    "print(\" STD of initializations: %12.8f\" % np.std(E))\n",
    "print(\" AVG of initializations: %12.8f\" % np.mean(E))\n",
    "plt.plot(E, label=\"E of each initialization\");\n",
    "plt.legend();"
   ]
  },
  {
   "cell_type": "code",
   "execution_count": 24,
   "id": "36c1e6ed-e619-4d7b-a760-04fca0157ad3",
   "metadata": {},
   "outputs": [
    {
     "name": "stdout",
     "output_type": "stream",
     "text": [
      " Initialized config to:  [0 0 0 0 0 0 0 0]\n",
      " <E> =  -3.86175735 \n"
     ]
    },
    {
     "data": {
      "text/plain": [
       "-3.861757352606937"
      ]
     },
     "execution_count": 24,
     "metadata": {},
     "output_type": "execute_result"
    },
    {
     "data": {
      "image/png": "[encoded data removed]",
      "text/plain": [
       "<Figure size 432x288 with 1 Axes>"
      ]
     },
     "metadata": {
      "needs_background": "light"
     },
     "output_type": "display_data"
    }
   ],
   "source": [
    "# prun compute_montecarlo(ham, conf, 2, 20000, 5000, plot=False)\n",
    "conf = montecarlo.SpinConfig1D(N=N)\n",
    "conf.initialize(M=0)\n",
    "compute_montecarlo(ham, conf, 2, 30000, 8000, plot=True)"
   ]
  },
  {
   "cell_type": "code",
   "execution_count": 35,
   "id": "44534374-d34d-4f4b-b360-74095c06320c",
   "metadata": {},
   "outputs": [
    {
     "name": "stdout",
     "output_type": "stream",
     "text": [
      " Initialized config to:  [0 1 1 0 1 1 0 0 0 0 1 1 1 0 1 0 1 0 1 0]\n",
      " <E> = -21.93928482 \n",
      " Initialized config to:  [0 1 1 0 1 1 0 0 0 0 1 1 1 0 1 0 1 0 1 0]\n",
      " <E> = -17.60965241 \n",
      " Initialized config to:  [0 1 1 0 1 1 0 0 0 0 1 1 1 0 1 0 1 0 1 0]\n",
      " <E> = -12.44696174 \n",
      " Initialized config to:  [0 1 1 0 1 1 0 0 0 0 1 1 1 0 1 0 1 0 1 0]\n",
      " <E> =  -9.45821455 \n",
      " Initialized config to:  [0 1 1 0 1 1 0 0 0 0 1 1 1 0 1 0 1 0 1 0]\n",
      " <E> =  -8.13933483 \n",
      " Initialized config to:  [0 1 1 0 1 1 0 0 0 0 1 1 1 0 1 0 1 0 1 0]\n",
      " <E> =  -6.42445611 \n",
      " Initialized config to:  [0 1 1 0 1 1 0 0 0 0 1 1 1 0 1 0 1 0 1 0]\n",
      " <E> =  -5.46376594 \n",
      " Initialized config to:  [0 1 1 0 1 1 0 0 0 0 1 1 1 0 1 0 1 0 1 0]\n",
      " <E> =  -4.58194549 \n",
      " Initialized config to:  [0 1 1 0 1 1 0 0 0 0 1 1 1 0 1 0 1 0 1 0]\n",
      " <E> =  -4.76739185 \n"
     ]
    },
    {
     "data": {
      "image/png": "[encoded data removed]",
      "text/plain": [
       "<Figure size 432x288 with 1 Axes>"
      ]
     },
     "metadata": {
      "needs_background": "light"
     },
     "output_type": "display_data"
    }
   ],
   "source": [
    "Tpoints = 10\n",
    "e_list = []\n",
    "T_list = []\n",
    "for Ti in range(1,10):\n",
    "    T = .5*Ti\n",
    "    conf = montecarlo.SpinConfig1D(N=N)\n",
    "    conf.initialize(M=int(N/2))\n",
    "    E = compute_montecarlo(ham, conf, T, 10000, 6000, plot=False)\n",
    "    \n",
    "    e_list.append(E)\n",
    "    T_list.append(T)\n",
    "\n",
    "plt.plot(T_list, e_list, label=\"energy\");\n",
    "# plt.plot(T_list, m_list, label=\"magnetization\");\n",
    "# plt.plot(T_list, m2_list, label=\"Susceptibility\");\n",
    "# plt.plot(T_list, e2_list, label=\"Heat Capacity\");\n",
    "plt.legend();\n",
    "\n",
    "# Tc_ind = np.argmax(m2_list)\n",
    "# print(\" Critical Temperature: %12.8f \" %(T_list[Tc_ind]))\n",
    "# print(\"     E:  %12.8f\" %(e_list[Tc_ind]))\n",
    "# print(\"     M:  %12.8f\" %(m_list[Tc_ind]))\n",
    "# print(\"     EE: %12.8f\" %(e2_list[Tc_ind]))\n",
    "# print(\"     MM: %12.8f\" %(m2_list[Tc_ind]))\n",
    "# Tc2 = T_list[np.argmax(e2_list)]\n",
    "# print(\" Critical Temperature: %12.8f\" %(Tc2))"
   ]
  },
  {
   "cell_type": "markdown",
   "id": "ce104601-9684-483d-b5c0-e004d4679a3c",
   "metadata": {},
   "source": [
    "Metropolis referenced from: [here](https://arxiv.org/pdf/0803.0217.pdf)\n"
   ]
  }
 ],
 "metadata": {
  "kernelspec": {
   "display_name": "Python 3 (ipykernel)",
   "language": "python",
   "name": "python3"
  },
  "language_info": {
   "codemirror_mode": {
    "name": "ipython",
    "version": 3
   },
   "file_extension": ".py",
   "mimetype": "text/x-python",
   "name": "python",
   "nbconvert_exporter": "python",
   "pygments_lexer": "ipython3",
   "version": "3.7.3"
  }
 },
 "nbformat": 4,
 "nbformat_minor": 5
}
