{
 "cells": [
  {
   "attachments": {},
   "cell_type": "markdown",
   "id": "50786a9d-708a-4c54-9a6d-4799ceaffebd",
   "metadata": {
    "tags": []
   },
   "source": [
    "# Introduction to the Monte Carlo method\n",
    "\n",
    "Start by defining the Gibbs distribution:\n",
    "$$P(\\alpha) = e^{-E(\\alpha)/kT}$$\n",
    "this expression, defines the probability of observing a particular configuration of spins, $\\alpha$. \n",
    "As you can see, the probability of $\\alpha$ decays exponentially with increasing energy of $\\alpha$, $E(\\alpha)$,\n",
    "where $k$ is the Boltzmann constant, $k = 1.38064852 \\times 10^{-23} J/K$\n",
    "and $T$ is the temperature in Kelvin. \n"
   ]
  },
  {
   "cell_type": "markdown",
   "id": "a7c175fd",
   "metadata": {},
   "source": [
    "\n",
    "# What defines the energy of a configuration of spins? \n",
    "Given a configuration of spins (e.g., $\\uparrow\\downarrow\\downarrow\\uparrow\\downarrow$) we can define the energy using the Ising Hamiltonian:\n",
    "\n",
    "$$ \n",
    "\\hat{H}' = \\sum_{\\left<ij\\right>}J_{ij}'s_is_j + \\sum_i \\mu_i' s_i.\n",
    "$$\n",
    "\n",
    "However, because the values that we often deal with are small, we can simply divide by the Boltzmann constant to make things simpler to work with:\n",
    "$$ \n",
    "\\begin{align}\n",
    "\\hat{H} = \\frac{\\hat{H}'}{k} =& -\\tfrac{1}{k}\\sum_{\\left<ij\\right>} J'_{ij}s_is_j + \\tfrac{1}{k}\\sum_i\\mu_i's_i \\\\\n",
    "=& \\sum_{\\left<ij\\right>}J_{ij} s_is_j + \\sum_i \\mu_i s_i \\\\\n",
    "\\end{align}\n",
    "$$\n",
    "\n",
    "where, $s_i=1$ if the $i^{th}$ spin is `up` and $s_i=-1$ if it is `down`, and the brackets $\\left<ij\\right>$ indicate a sum over spins that are connected,\n",
    "and $J_{ij}$ is a coupling constant that determines the energy scale for sites $i$ and $j$. \n",
    "The energy here has been divided by the Boltzmann constant to yield units of temperature. \n",
    "Let's consider the following case, which has the sites connected in a single 1D line:\n",
    "\n",
    "$$\n",
    "\\alpha = \\uparrow-\\downarrow-\\downarrow-\\uparrow-\\downarrow.$$ \n",
    "\n",
    "Setting every coupling constant to unity ($J_{ij}=1$) and all local fields to be equal ($\\mu_i=\\mu$), what is the energy of the following configuration:\n",
    "\n",
    "$$ \n",
    "E(\\alpha) = (-1 + 1 - 1 - 1) - \\mu = \\frac{E(\\alpha)'}{k} = \\frac{2-\\mu'}{k}\n",
    "$$\n"
   ]
  },
  {
   "cell_type": "code",
   "execution_count": 1,
   "id": "8cc20c5d-c248-47d2-80ed-d650eb5c243f",
   "metadata": {},
   "outputs": [],
   "source": [
    "# Load relevant libraries. If you have errors you probably need to install them into your conda env\n",
    "%matplotlib inline\n",
    "\n",
    "import numpy as np\n",
    "import matplotlib as mpl\n",
    "from matplotlib import pyplot as plt\n",
    "import montecarlo\n",
    "import random\n",
    "import networkx as nx\n",
    "import random\n",
    "import scipy\n",
    "random.seed(2)\n"
   ]
  },
  {
   "cell_type": "markdown",
   "id": "5f9b68d6",
   "metadata": {},
   "source": [
    "# Define a Hamiltonian (or Graph)"
   ]
  },
  {
   "cell_type": "code",
   "execution_count": 2,
   "id": "9e96ca47",
   "metadata": {},
   "outputs": [
    {
     "name": "stderr",
     "output_type": "stream",
     "text": [
      "/var/folders/9p/nhnq58pj3td7svw_pppk_syw0000gn/T/ipykernel_14991/2334297037.py:50: UserWarning: Matplotlib is currently using agg, which is a non-GUI backend, so cannot show the figure.\n",
      "  plt.show()\n"
     ]
    }
   ],
   "source": [
    "# Number of nodes\n",
    "N = 8\n",
    "\n",
    "# Start by setting each edge to -1\n",
    "Jval = 1\n",
    "\n",
    "# Create graph\n",
    "def build_1d_graph(N, Jval):\n",
    "    \"\"\"\n",
    "    Build a 1D graph with a single J value (Jval)\n",
    "    \"\"\"\n",
    "    G = nx.Graph()\n",
    "    G.add_nodes_from([i for i in range(N)])\n",
    "    G.add_edges_from([(i,(i+1)% G.number_of_nodes() ) for i in range(N)])\n",
    "    # G.add_edge(2,5)\n",
    "    # G.add_edge(4,8)\n",
    "    # G.add_edge(4,0)\n",
    "    for e in G.edges:\n",
    "        G.edges[e]['weight'] = Jval\n",
    "    return G\n",
    "\n",
    "\n",
    "def draw_my_graph(G, conf=None):\n",
    "    \"\"\"\n",
    "    Draw our graph!\n",
    "    \"\"\"\n",
    "    N = len(G.nodes())\n",
    "    if conf == None:\n",
    "        conf = montecarlo.BitString(N=N)\n",
    "    \n",
    "    if len(conf.config) != N:\n",
    "        error(\"DimensionMismatch\")\n",
    "\n",
    "    plt.figure(1)\n",
    "    # nx.draw(G, with_labels=True, font_weight='bold', pos=nx.circular_layout(G))\n",
    "    pos = nx.circular_layout(G)\n",
    "\n",
    "    edge_labels = dict([((n1, n2), d['weight'])\n",
    "                        for n1, n2, d in G.edges(data=True)])\n",
    "    nx.draw(\n",
    "        G, pos, edge_color='black', width=2, linewidths=2,\n",
    "        node_size=1000, node_color=conf.config, alpha=.5,\n",
    "        labels={node: node for node in G.nodes()}\n",
    "    )\n",
    "\n",
    "    nx.draw_networkx_edge_labels(G, pos, edge_labels=edge_labels)\n",
    "\n",
    "    # plt.figure(2)\n",
    "    # nx.draw(G, with_labels=True, font_weight='bold')\n",
    "    plt.show()\n",
    "\n",
    "\n",
    "\n",
    "# Now let's define a function that converts a graph into a simpler IsingHamiltonian object\n",
    "def get_IsingHamiltonian(G, mus=None):\n",
    "    if mus == None:\n",
    "        mus = np.zeros(len(G.nodes()))\n",
    "\n",
    "    if len(G.nodes()) != len(mus):\n",
    "        error(\"DimensionMismatch\")\n",
    "\n",
    "    if len(G.nodes()) != len(mus):\n",
    "        error(\" Dimension Mismatch\")\n",
    "    J = [[] for i in G.nodes()]\n",
    "    for e in G.edges:\n",
    "        J[e[0]].append((e[1], G.edges[e]['weight']))\n",
    "        J[e[1]].append((e[0], G.edges[e]['weight']))\n",
    "    return montecarlo.IsingHamiltonian(J,mus)\n",
    "\n",
    "G = build_1d_graph(N, Jval)\n",
    "\n",
    "# Now Draw the graph. First we will draw it with the nodes arranged on the circle, then we will draw the same graph \n",
    "# with the position of the nodes optimized for easier visualization. Let's make a function for this\n",
    "draw_my_graph(G)\n",
    "\n",
    "ham = get_IsingHamiltonian(G, mus=[.1 for i in range(N)])"
   ]
  },
  {
   "cell_type": "markdown",
   "id": "e6ebeb00",
   "metadata": {},
   "source": [
    "# Create a bitstring"
   ]
  },
  {
   "cell_type": "code",
   "execution_count": 3,
   "id": "488bdb52",
   "metadata": {},
   "outputs": [
    {
     "name": "stderr",
     "output_type": "stream",
     "text": [
      "/var/folders/9p/nhnq58pj3td7svw_pppk_syw0000gn/T/ipykernel_14991/2334297037.py:50: UserWarning: Matplotlib is currently using agg, which is a non-GUI backend, so cannot show the figure.\n",
      "  plt.show()\n"
     ]
    }
   ],
   "source": [
    "conf = montecarlo.BitString(N=N)\n",
    "conf.set_config([0, 0, 0, 0, 0, 0, 1, 1])\n",
    "# conf.initialize(M=2)\n",
    "draw_my_graph(G,conf=conf)"
   ]
  },
  {
   "cell_type": "markdown",
   "id": "95f0da16",
   "metadata": {},
   "source": [
    "# Compute the energy"
   ]
  },
  {
   "cell_type": "code",
   "execution_count": 4,
   "id": "10be46a1",
   "metadata": {},
   "outputs": [
    {
     "name": "stdout",
     "output_type": "stream",
     "text": [
      " Energy of       [0 0 0 0 0 0 1 1]  is  3.6\n",
      " Index 16 =  01101010\n",
      " Energy of       [0 1 1 0 1 0 1 0]  is  -4.0\n"
     ]
    }
   ],
   "source": [
    "conf.set_config([0, 0, 0, 0, 0, 0, 1, 1])\n",
    "\n",
    "Ei = ham.energy(conf)\n",
    "Pi = np.e**(-Ei)\n",
    "print(\" Energy of      \", conf.config, \" is \", Ei)\n",
    "# print(\" Probability of \", conf.config, \" is \", Pi)\n",
    "assert(abs(Ei-3.6) < 1e-12)\n",
    "\n",
    "conf.set_int_config(106)\n",
    "print(\" Index 16 = \", conf)\n",
    "Ei = ham.energy(conf)\n",
    "print(\" Energy of      \", conf.config, \" is \", Ei)\n",
    "assert(abs(Ei+4.0) < 1e-12)\n",
    "\n"
   ]
  },
  {
   "cell_type": "markdown",
   "id": "e7021fa8",
   "metadata": {},
   "source": [
    "# Thermodynamic averages\n",
    "\n",
    "\n",
    "An expectation value of any quantity, `A`, computed (using the Canonical Ensemble) can be defined as:\n",
    "\n",
    "$$\n",
    "\\left<A\\right> = \\frac{1}{Z}\\int e^{-E(\\alpha)/T}A(\\alpha)d\\alpha,\n",
    "$$\n",
    "\n",
    "where `Z` is referred to as the `partition function`, and is essentially a normalization constant:\n",
    "\n",
    "$$\n",
    "Z = \\int e^{-E(\\alpha)/T}d\\alpha,\n",
    "$$\n",
    "\n",
    "and\n",
    "\n",
    "$$\n",
    "P(\\alpha) = \\frac{1}{Z}e^{-E(\\alpha)/T},\n",
    "$$\n",
    "\n",
    "gives the actual statistical weight with which the configuration $\\alpha$ occurs in the thermal equilibrium. We now want to consider the discrete case of the formal definitions above. If we are to consider a finite portion of the configuration space it would produces an average of the form:\n",
    "\n",
    "$$\n",
    "\\left<A\\right> = \\frac{\\sum_\\alpha e^{-E'(\\alpha)/T}A(\\alpha)}{\\sum_\\alpha e^{-E'(\\alpha)/T}}\n",
    "$$"
   ]
  },
  {
   "cell_type": "markdown",
   "id": "354ba7ae",
   "metadata": {},
   "source": [
    "# Properties\n",
    "\n",
    "For any fixed state, $\\alpha$, the `magnetization` ($M$) is proportional to the _excess_ number of spins pointing up or down while the energy is given by the\n",
    "Hamiltonian:\n",
    "$$M(\\alpha) = N_{\\text{up}}(\\alpha) - N_{\\text{down}}(\\alpha).$$\n",
    "As a dynamical, fluctuating system, each time you measure the magnetization, the system might be in a different state ($\\alpha$) and so you'll get a different number!\n",
    "However, we already know what the probability of measuring any particular $\\alpha$ is, so in order to compute the average magnetization, $\\left<M\\right>$, we just need to multiply the magnetization of each possible configuration times the probability of it being measured, and then add them all up!\n",
    "$$ \\left<M\\right> = \\sum_\\alpha M(\\alpha)P(\\alpha).$$\n",
    "In fact, any average value can be obtained by adding up the value of an individual configuration multiplied by it's probability:\n",
    "$$ \\left<E\\right> = \\sum_\\alpha E(\\alpha)P(\\alpha).$$\n",
    "\n",
    "This means that to obtain any average value (also known as an `expectation value`) computationally, we must compute the both the value and probability of all possible configurations. This becomes extremely expensive as the number of spins ($N$) increases. "
   ]
  },
  {
   "cell_type": "code",
   "execution_count": 5,
   "id": "895cd186-2e40-48c6-9f3c-b67104321bc5",
   "metadata": {},
   "outputs": [
    {
     "name": "stdout",
     "output_type": "stream",
     "text": [
      " E  = -11.90432015\n",
      " M  =  -0.02660820\n",
      " HC =   0.59026994\n",
      " MS =   0.05404295\n"
     ]
    },
    {
     "name": "stderr",
     "output_type": "stream",
     "text": [
      "/var/folders/9p/nhnq58pj3td7svw_pppk_syw0000gn/T/ipykernel_14991/2334297037.py:50: UserWarning: Matplotlib is currently using agg, which is a non-GUI backend, so cannot show the figure.\n",
      "  plt.show()\n"
     ]
    }
   ],
   "source": [
    "# Define a new configuration instance for a 6-site lattice\n",
    "N = 6\n",
    "conf = montecarlo.BitString(N=N)\n",
    "\n",
    "# Define a new hamiltonian values\n",
    "G = build_1d_graph(N, 2)\n",
    "draw_my_graph(G, conf)\n",
    "ham = get_IsingHamiltonian(G, mus=[1.1 for i in range(N)])\n",
    "\n",
    "# Compute the average values for Temperature = 1\n",
    "E, M, HC, MS = ham.compute_average_values(conf, 1)\n",
    "\n",
    "\n",
    "print(\" E  = %12.8f\" %E)\n",
    "print(\" M  = %12.8f\" %M)\n",
    "print(\" HC = %12.8f\" %HC)\n",
    "print(\" MS = %12.8f\" %MS)\n",
    "\n",
    "assert(np.isclose(E,  -11.90432015))\n",
    "assert(np.isclose(M,  -0.02660820))\n",
    "assert(np.isclose(HC, 0.59026994))\n",
    "assert(np.isclose(MS, 0.05404295))"
   ]
  },
  {
   "cell_type": "markdown",
   "id": "59a61e1c-d89d-412d-a5f0-4f7d04eab8a5",
   "metadata": {},
   "source": [
    "# Properties vs Temperature (exact)"
   ]
  },
  {
   "cell_type": "code",
   "execution_count": 6,
   "id": "54071e30-5d52-475c-a5ff-f327bb632286",
   "metadata": {},
   "outputs": [
    {
     "name": "stderr",
     "output_type": "stream",
     "text": [
      "/var/folders/9p/nhnq58pj3td7svw_pppk_syw0000gn/T/ipykernel_14991/2334297037.py:50: UserWarning: Matplotlib is currently using agg, which is a non-GUI backend, so cannot show the figure.\n",
      "  plt.show()\n"
     ]
    },
    {
     "name": "stdout",
     "output_type": "stream",
     "text": [
      " Number of configurations:  256\n",
      " Critical Temperature:   2.00000000 \n",
      "     E:   -3.73231850\n",
      "     M:   -0.14658168\n",
      "     HC:   1.64589165\n",
      "     MS:   1.46663062\n",
      " Critical Temperature:   1.00000000\n",
      " E =  -3.73231850 @ T =   2.00000000\n"
     ]
    }
   ],
   "source": [
    "N = 8\n",
    "\n",
    "# Initialize lists that we will fill with the property vs. temperature data\n",
    "e_list = []\n",
    "e2_list = []\n",
    "m_list = []\n",
    "m2_list = []\n",
    "T_list = []\n",
    "\n",
    "# Create BitString\n",
    "conf = montecarlo.BitString(N=N)\n",
    "print(\" Number of configurations: \", conf.n_dim)\n",
    "\n",
    "# Define a new hamiltonian values\n",
    "G = build_1d_graph(N, 1)\n",
    "draw_my_graph(G, conf)\n",
    "ham = get_IsingHamiltonian(G, mus=[.1 for i in range(N)])\n",
    "\n",
    "\n",
    "\n",
    "for Ti in range(1,100):\n",
    "    T = .1*Ti\n",
    "    \n",
    "    E, M, HC, MS = ham.compute_average_values(conf, T)\n",
    "    \n",
    "    e_list.append(E)\n",
    "    m_list.append(M)\n",
    "    e2_list.append(HC)\n",
    "    m2_list.append(MS)\n",
    "    T_list.append(T)\n",
    "\n",
    "\n",
    "plt.plot(T_list, e_list, label=\"energy\");\n",
    "plt.plot(T_list, m_list, label=\"magnetization\");\n",
    "plt.plot(T_list, m2_list, label=\"Susceptibility\");\n",
    "plt.plot(T_list, e2_list, label=\"Heat Capacity\");\n",
    "plt.legend();\n",
    "\n",
    "Tc_ind = np.argmax(m2_list)\n",
    "print(\" Critical Temperature: %12.8f \" %(T_list[Tc_ind]))\n",
    "print(\"     E:  %12.8f\" %(e_list[Tc_ind]))\n",
    "print(\"     M:  %12.8f\" %(m_list[Tc_ind]))\n",
    "print(\"     HC: %12.8f\" %(e2_list[Tc_ind]))\n",
    "print(\"     MS: %12.8f\" %(m2_list[Tc_ind]))\n",
    "Tc2 = T_list[np.argmax(e2_list)]\n",
    "print(\" Critical Temperature: %12.8f\" %(Tc2))\n",
    "\n",
    "print(\" E = %12.8f @ T = %12.8f\"% (e_list[T_list.index(2.00)], 2.0))\n"
   ]
  },
  {
   "attachments": {},
   "cell_type": "markdown",
   "id": "5fecc6c3",
   "metadata": {},
   "source": [
    "# Metropolis Sampling\n",
    "\n",
    "These exact calculations pose a drastic problem from a practical perspective. As `N` becomes large it is evident that computations become a daunting task if calculated in this manner. Thus a better numerical alternative would be to use a simulation to generate data over the ‘representative states’. Because each computed value of a configuration gets weighted by it's probability, very high energy states (which have negligible probabilities due to the Boltzmann distribution) will not contribute to the overall sum. What we'd like to do instead, is to sample over *only* those configurations that actively contribute. This is a form of biased sampling which essentially boils down to satisfying the following condition where\n",
    "\n",
    "**generated frequency = actual probability**.\n",
    "\n",
    "We could choose to randomly `sample` from this full set of configurations, but this will not converge quickly. By randomly sampling, we simply mean to pick a configuration, $\\alpha$, at random, where all configurations have equal probability of being selected. However, what if we *knew* a priori what the equilibrium probability distribution was? Then we could select configurations not randomly, but rather where a given configurations probability of being selected was proportional to its equilibrium population,\n",
    "\n",
    "$$\n",
    "\\frac{1}{Z}e^{-E(\\alpha)/T}.\n",
    "$$\n",
    "\n",
    "If each configuration had the thermodynamic probability of being sampled, then our average value would reduce to a simple arithmetic average over the samples:\n",
    "\n",
    "$$\n",
    "\\left<A\\right> = \\frac{1}{M} \\sum_\\alpha A(\\alpha).\n",
    "$$\n",
    "\n",
    "How can we carry out this fancy, biased sampling? - Markov process! We will *walk* randomly through configuration space. Each configuration that we visit we will compute properties that contribute to our average values. From each we visit, we will consider a new randomly chosen configuration and decide whether or not to visit that new configuration. The rules we use to determine whether or not to visit a new configuration will be chosen to guarantee that the number of times we visit a configuration is exactly proportional to the equilibrium population of that configuration!\n",
    "\n",
    "The choice to visit a new configuration will be made probabilistically. Assume we are currently visiting configuration $\\alpha$. We select configuration $\\beta$ at random, and want to decide whether or not to visit $\\beta$. If the $\\beta$ is lower in energy than $\\alpha$, then we will visit the new configuration with 100% probability, \n",
    "\n",
    "$$\n",
    "W(\\alpha\\rightarrow\\beta)=1.\n",
    "$$\n",
    "\n",
    "If the $\\beta$ is *higher* in energy, then we will visit the new configuration with a probability given by,\n",
    "\n",
    "$$\n",
    "W(\\alpha\\rightarrow\\beta)=e^{-\\left(E(\\beta)-E(\\alpha)\\right)/T}.\n",
    "$$\n",
    "\n",
    "This seems simple, but it's quite powerful! We want to use this to make our simulations much faster, at the cost of some statistical noise.\n",
    "\n",
    "\n",
    "\t1. Initialize configuration, α\n",
    "\t2. Loop over Monte Carlo steps\t    \n",
    "\t\t1. Loop over sites, i\n",
    "\t        1. Propose new configuration, β, by flipping site, i.\n",
    "\t\t\t2. Compute flipping probability, W(α→β). If a randomly chosen number between 0 and 1 is less than W(α→β), then visit β\n",
    "\t        3. Update α to β\n",
    "\n",
    "\t    2. Update average values with updated α"
   ]
  },
  {
   "cell_type": "markdown",
   "id": "a97b02a9-37ea-4f6c-b59b-cc0103181da6",
   "metadata": {},
   "source": [
    "----\n"
   ]
  },
  {
   "cell_type": "code",
   "execution_count": 7,
   "id": "36c1e6ed-e619-4d7b-a760-04fca0157ad3",
   "metadata": {},
   "outputs": [
    {
     "name": "stdout",
     "output_type": "stream",
     "text": [
      "     E:   -3.67600000\n",
      "     M:   -0.16000000\n",
      "     HC:   0.06467507\n",
      "     MS:   0.30832323\n"
     ]
    }
   ],
   "source": [
    "# Initialize BitString\n",
    "\n",
    "conf = montecarlo.BitString(N=N)\n",
    "conf.initialize(M=4)\n",
    "\n",
    "# run montecarlo\n",
    "E, M, EE, MM = montecarlo.metropolis_montecarlo(ham, conf, T=2, nsweep=8000, nburn=2000)\n",
    "\n",
    "    \n",
    "HC = (EE[-1] - E[-1]*E[-1])/T/T\n",
    "MS = (MM[-1] - M[-1]*M[-1])/T\n",
    "print(\"     E:  %12.8f\" %(E[-1]))\n",
    "print(\"     M:  %12.8f\" %(M[-1]))\n",
    "print(\"     HC: %12.8f\" %(HC))\n",
    "print(\"     MS: %12.8f\" %(MS))\n",
    "# Exact values\n",
    "# E:   -3.73231850\n",
    "# M:    0.14658168\n",
    "# EE:   1.64589165\n",
    "# MM:   1.46663062\n",
    "    \n",
    "plt.plot(E, label=\"energy\");\n",
    "plt.plot([-3.73231850]*len(E), label=\"exact\");\n",
    "plt.legend();\n",
    "\n",
    "# Eexact, M, HC, MS = ham1d.compute_average_values(conf, 2)\n",
    "# print(Eexact)\n",
    "# Eexact, M, HC, MS = ham.compute_average_values(conf, 2)\n",
    "# print(Eexact)\n",
    "\n",
    "\n"
   ]
  },
  {
   "cell_type": "markdown",
   "id": "57a4789e",
   "metadata": {},
   "source": [
    "# Energy/Magnetization vs Temperature (Metropolis Sampling)"
   ]
  },
  {
   "cell_type": "code",
   "execution_count": 8,
   "id": "6e001f49-1e69-4c36-a3a6-23d612fd629a",
   "metadata": {},
   "outputs": [],
   "source": [
    "def run_T_scan(ham, conf, Tstep=.1, Tmax=10, n_mc_steps=2000, n_burn=200):\n",
    "    \n",
    "    N = len(conf.config)\n",
    "    if len(ham.J) != N:\n",
    "        error(\"dimensionMismatch\")\n",
    "\n",
    "    T_range = []\n",
    "    e_vs_T = []\n",
    "    m_vs_T = []\n",
    "    ee_vs_T = []\n",
    "    mm_vs_T = []\n",
    "    heat_cap_vs_T = []\n",
    "    magn_sus_vs_T = []\n",
    "    \n",
    "    T = 1*Tstep\n",
    "    for Ti in range(int(Tmax/Tstep)):\n",
    "        T += Tstep\n",
    "        conf = montecarlo.BitString(N=N)\n",
    "        conf.initialize(M=int(N/2))\n",
    "        # E, M, HC, MS = compute_montecarlo(ham, conf, T, n_mc_steps, n_burn, plot=False)\n",
    "        e, m, ee, mm = montecarlo.metropolis_montecarlo(ham, conf, T=T, nsweep=n_mc_steps, nburn=n_burn)\n",
    "\n",
    "        \n",
    "        T_range.append(T)\n",
    "\n",
    "        e_vs_T.append(e[-1])\n",
    "        m_vs_T.append(m[-1])\n",
    "        ee_vs_T.append(ee[-1])\n",
    "        mm_vs_T.append(mm[-1])\n",
    "\n",
    "        E  = e[-1]\n",
    "        EE = ee[-1]\n",
    "        M  = m[-1]\n",
    "        MM = mm[-1]\n",
    "        heat_cap = (EE-E*E)/(T*T)\n",
    "        magn_sus = (MM-M*M)/T\n",
    "        heat_cap_vs_T.append(heat_cap)\n",
    "        magn_sus_vs_T.append(magn_sus)\n",
    "\n",
    "        # print(\"T= %12.8f E= %12.8f M=%12.8f Heat Capacity= %12.8f Mag. Suscept.=%12.8f\" %(T, e[-1], m[-1], heat_cap, magn_sus))\n",
    "\n",
    "    plt.plot(T_range,e_vs_T, label=\"Energy\")\n",
    "    plt.plot(T_range,m_vs_T, label=\"Magnetization\")\n",
    "    plt.plot(T_range,magn_sus_vs_T, label=\"Susceptibility\")\n",
    "    plt.plot(T_range,heat_cap_vs_T, label=\"Heat Capacity\")\n",
    "    plt.legend()\n",
    "\n",
    "\n"
   ]
  },
  {
   "cell_type": "code",
   "execution_count": 9,
   "id": "6a57f595-69fb-4150-9b61-65c98216e3fe",
   "metadata": {},
   "outputs": [],
   "source": [
    "run_T_scan(ham, conf, Tstep=.1, Tmax=10, n_mc_steps=100, n_burn=10)"
   ]
  },
  {
   "cell_type": "code",
   "execution_count": 10,
   "id": "82e3ee6a-f1ac-4ecb-9ab5-222570ac60d2",
   "metadata": {},
   "outputs": [],
   "source": [
    "run_T_scan(ham, conf, Tstep=.1, Tmax=10, n_mc_steps=500, n_burn=100)"
   ]
  },
  {
   "cell_type": "code",
   "execution_count": 11,
   "id": "b6ac2ec3-3c4b-42f1-a833-c2b45be05052",
   "metadata": {},
   "outputs": [],
   "source": [
    "run_T_scan(ham, conf, Tstep=.1, Tmax=10, n_mc_steps=1000, n_burn=100)"
   ]
  },
  {
   "cell_type": "code",
   "execution_count": 12,
   "id": "1294d5c5-d0d1-4a70-b448-15eee0aa01dc",
   "metadata": {},
   "outputs": [],
   "source": [
    "run_T_scan(ham, conf, Tstep=.1, Tmax=10, n_mc_steps=2000, n_burn=200)"
   ]
  },
  {
   "cell_type": "code",
   "execution_count": 13,
   "id": "a6c91a82-72a3-4113-8fb7-47bdeb1fa5d5",
   "metadata": {},
   "outputs": [],
   "source": [
    "run_T_scan(ham, conf, Tstep=.1, Tmax=10, n_mc_steps=10000, n_burn=1000)"
   ]
  },
  {
   "cell_type": "markdown",
   "id": "3d6aa1e2",
   "metadata": {},
   "source": [
    "# Larger graph"
   ]
  },
  {
   "cell_type": "code",
   "execution_count": 14,
   "id": "da2373da-df14-449b-a746-066ee63f3395",
   "metadata": {},
   "outputs": [
    {
     "name": "stderr",
     "output_type": "stream",
     "text": [
      "/var/folders/9p/nhnq58pj3td7svw_pppk_syw0000gn/T/ipykernel_14991/2334297037.py:50: UserWarning: Matplotlib is currently using agg, which is a non-GUI backend, so cannot show the figure.\n",
      "  plt.show()\n"
     ]
    },
    {
     "name": "stdout",
     "output_type": "stream",
     "text": [
      " -4.85740000\n"
     ]
    }
   ],
   "source": [
    "N = 50\n",
    "\n",
    "G = build_1d_graph(N, Jval)\n",
    "\n",
    "# Now Draw the graph. First we will draw it with the nodes arranged on the circle, then we will draw the same graph \n",
    "# with the position of the nodes optimized for easier visualization. Let's make a function for this\n",
    "draw_my_graph(G)\n",
    "\n",
    "ham = get_IsingHamiltonian(G, mus=[.1 for i in range(N)])\n",
    "conf = montecarlo.BitString(N=50)\n",
    "conf.initialize(M=25)\n",
    "e, m, ee, mm = montecarlo.metropolis_montecarlo(ham, conf, T=T, nsweep=5000, nburn=1000)\n",
    "print(\"%12.8f\" %e[-1])\n",
    "# plt.plot(e, label=\"energy\");\n",
    "# plt.legend();\n",
    "draw_my_graph(G, conf)\n"
   ]
  },
  {
   "cell_type": "code",
   "execution_count": 15,
   "id": "6f385361-8a58-44ab-8fca-88d7b9df33bb",
   "metadata": {},
   "outputs": [],
   "source": [
    "run_T_scan(ham, conf, Tstep=.1, Tmax=10, n_mc_steps=10000, n_burn=1000)\n"
   ]
  },
  {
   "cell_type": "code",
   "execution_count": null,
   "id": "b9f9d09c-989e-4318-9c1c-cae2b4444162",
   "metadata": {},
   "outputs": [],
   "source": []
  }
 ],
 "metadata": {
  "kernelspec": {
   "display_name": "Python 3 (ipykernel)",
   "language": "python",
   "name": "python3"
  },
  "language_info": {
   "codemirror_mode": {
    "name": "ipython",
    "version": 3
   },
   "file_extension": ".py",
   "mimetype": "text/x-python",
   "name": "python",
   "nbconvert_exporter": "python",
   "pygments_lexer": "ipython3",
   "version": "3.10.8"
  }
 },
 "nbformat": 4,
 "nbformat_minor": 5
}
