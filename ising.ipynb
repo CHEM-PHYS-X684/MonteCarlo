{
 "cells": [
  {
   "cell_type": "markdown",
   "id": "50786a9d-708a-4c54-9a6d-4799ceaffebd",
   "metadata": {
    "tags": []
   },
   "source": [
    "# Introduction to the Monte Carlo method\n",
    "\n",
    "Start by defining the Gibbs distribution:\n",
    "$$P(\\alpha) = e^{-E(\\alpha)/kT}$$\n",
    "this expression, defines the probability of observing a particular configuration of spins, $\\alpha$. \n",
    "As you can see, the probability of $\\alpha$ decays exponentially with increasing energy of $\\alpha$, $E(\\alpha)$,\n",
    "where $k$ is the Boltzmann constant, $k = 1.38064852 \\times 10^{-23} J/K$\n",
    "and $T$ is the temperature in Kelvin. \n",
    "\n",
    "## What defines the energy of a configuration of spins? \n",
    "Given a configuration of spins (e.g., $\\uparrow\\downarrow\\downarrow\\uparrow\\downarrow$) we can define the energy using what is referred to as an Ising Hamiltonian:\n",
    "$$ \\hat{H}' = \\frac{\\hat{H}}{k} = \\frac{J}{k}\\sum_{<ij>} s_is_j,$$\n",
    "where, $s_i=1$ if the $i^{th}$ spin is `up` and $s_i=-1$ if it is `down`, and the brackets $<ij>$ indicate a sum over spins that are connected,\n",
    "and $J$ is a constant that determines the energy scale. \n",
    "The energy here has been divided by the Boltzmann constant to yield units of temperature. \n",
    "Let's consider the following case, which has the sites connected in a single 1D line:\n",
    "$$\\alpha = \\uparrow-\\downarrow-\\downarrow-\\uparrow-\\downarrow.$$ \n",
    "What is the energy of such a configuration?\n",
    "$$ E(\\alpha)' = J/k(-1 + 1 - 1 - 1) = \\frac{E(\\alpha)}{k} = -2J/k$$\n",
    "\n",
    "## Properties\n",
    "For any fixed state, $\\alpha$, the `magnetization` ($M$) is proportional to the _excess_ number of spins pointing up or down while the energy is given by the\n",
    "Hamiltonian:\n",
    "$$M(\\alpha) = N_{\\text{up}}(\\alpha) - N_{\\text{down}}(\\alpha).$$\n",
    "As a dynamical, fluctuating system, each time you measure the magnetization, the system might be in a different state ($\\alpha$) and so you'll get a different number!\n",
    "However, we already know what the probability of measuring any particular $\\alpha$ is, so in order to compute the average magnetization, $\\left<M\\right>$, we just need to multiply the magnetization of each possible configuration times the probability of it being measured, and then add them all up!\n",
    "$$ \\left<M\\right> = \\sum_\\alpha M(\\alpha)P(\\alpha).$$\n",
    "In fact, any average value can be obtained by adding up the value of an individual configuration multiplied by it's probability:\n",
    "$$ \\left<E\\right> = \\sum_\\alpha E(\\alpha)P(\\alpha).$$\n",
    "\n",
    "This means that to obtain any average value (also known as an `expectation value`) computationally, we must compute the both the value and probability of all possible configurations. This becomes extremely expensive as the number of spins ($N$) increases. "
   ]
  },
  {
   "cell_type": "code",
   "execution_count": 8,
   "id": "8cc20c5d-c248-47d2-80ed-d650eb5c243f",
   "metadata": {},
   "outputs": [
    {
     "name": "stdout",
     "output_type": "stream",
     "text": [
      "[95, 86, 40]\n",
      " Initialized config to:  [1 1 1 0 0 0 0 1 1 0]\n",
      "nick 5\n"
     ]
    },
    {
     "data": {
      "image/png": "[encoded data removed]",
      "text/plain": [
       "<Figure size 432x288 with 1 Axes>"
      ]
     },
     "metadata": {
      "needs_background": "light"
     },
     "output_type": "display_data"
    }
   ],
   "source": [
    "import numpy as np\n",
    "import matplotlib as mpl\n",
    "from matplotlib import pyplot as plt\n",
    "import montecarlo\n",
    "import random\n",
    "\n",
    "# boltzmann constant, k = 1.38064852 × 10-23 m^2 kg s-2 K-1\n",
    "energies = np.linspace(0, 10, 100);\n",
    "\n",
    "N = 10\n",
    "print(random.sample(range(1, 100), 3))\n",
    "plt.plot(energies)\n",
    "\n",
    "conf = montecarlo.SpinConfig1D(N=N)\n",
    "conf.initialize(M=5)\n",
    "ham = montecarlo.IsingHamiltonian1D(1.0, [1 for i in range(N)], 1.01)\n",
    "\n"
   ]
  },
  {
   "cell_type": "markdown",
   "id": "10a45589-0d1a-4952-8289-80c16a1d7859",
   "metadata": {
    "tags": []
   },
   "source": [
    "# Question 1\n",
    "How many configurations are possible for:"
   ]
  },
  {
   "cell_type": "markdown",
   "id": "fc768faf-ac45-447b-b6e5-a8da98e1e6e2",
   "metadata": {},
   "source": [
    "(a) N=10?"
   ]
  },
  {
   "cell_type": "code",
   "execution_count": null,
   "id": "b3233cea-f5e5-4bc4-933a-a97869aa698a",
   "metadata": {},
   "outputs": [],
   "source": []
  },
  {
   "cell_type": "markdown",
   "id": "8b052fb8-4a0a-486c-b19f-cebb6ebe558a",
   "metadata": {},
   "source": [
    "(b) N=100?"
   ]
  },
  {
   "cell_type": "code",
   "execution_count": null,
   "id": "0ffbb5a4-fab4-465a-a037-defcadf2bdc1",
   "metadata": {},
   "outputs": [],
   "source": []
  },
  {
   "cell_type": "markdown",
   "id": "3f6dd036-5535-4a12-9cc5-99ee947d458c",
   "metadata": {},
   "source": [
    "(c) N=1000?"
   ]
  },
  {
   "cell_type": "code",
   "execution_count": null,
   "id": "f14d7c52-3a4a-4079-b57a-65fdcefa756d",
   "metadata": {},
   "outputs": [],
   "source": []
  },
  {
   "cell_type": "markdown",
   "id": "953ea21f-d5b6-4928-857d-12a17d6c9c1d",
   "metadata": {},
   "source": [
    "# Sampling\n",
    "These calculation pose a drastic problem from a practical perspective. \n",
    " As $N$ becomes large it is evident that\n",
    "computations become a daunting task if calculated in this manner.\n",
    " Thus a better numerical alternative would be to use a simulation to generate data over\n",
    "the ‘representative states’. \n",
    "Because each computed value of a configuration gets weighted by it's probability, very high energy states (which have negligible probabilities due to the Boltzmann distribution) will not contribute to the overall sum.  \n",
    "This is a form of biased sampling which\n",
    "essentially boils down to satisfying the following condition where\n",
    "`generated frequency` = `actual probability`.\n",
    "\n",
    "An expectation value of any quantity, $A$, computed (using the Canonical Ensemble) can also be defined as:\n",
    "$$\\left<A\\right> = \\frac{1}{Z}\\int e^{-E(\\alpha)/T}A(\\alpha)d\\alpha,$$\n",
    "where $Z$ is referred to as the `partition function`, and is essentially a normalization constant:\n",
    "$$ Z = \\int e^{-E(\\alpha)/T}d\\alpha,$$ and\n",
    "$$ P(\\alpha) = \\frac{1}{Z}e^{-E(\\alpha)/T}.$$\n",
    "This probability gives the actual statistical weight with which the configuration\n",
    "$\\alpha$ occurs in the thermal equilibrium. We now want to consider the discrete case\n",
    "of the formal definitions above. If we are to consider a finite portion of the\n",
    "configuration space it would produces an average of the form:\n",
    "$$\n",
    "\\left<A\\right> = \\frac{\\displaystyle\\sum_\\alpha e^{-E'(\\alpha)/T}A(\\alpha)}{\\displaystyle\\sum_\\alpha e^{-E'(\\alpha)/T}}$$\n",
    "\n",
    "We could choose to randomly `sample` from this full set of configurations, but this will not converge quickly. "
   ]
  },
  {
   "cell_type": "code",
   "execution_count": null,
   "id": "b95cac9c-3dc7-40ea-ad97-7ed940e068a9",
   "metadata": {},
   "outputs": [],
   "source": []
  },
  {
   "cell_type": "code",
   "execution_count": 2,
   "id": "33785241-a4a4-449e-8cfe-7852324810f0",
   "metadata": {},
   "outputs": [],
   "source": [
    "import numpy as np\n",
    "import matplotlib as mpl\n",
    "\n",
    "# boltzmann constant, k = 1.38064852 × 10-23 m^2 kg s-2 K-1\n",
    "energies = np.linspace(0, 10, 100);\n",
    "\n"
   ]
  },
  {
   "cell_type": "markdown",
   "id": "ce104601-9684-483d-b5c0-e004d4679a3c",
   "metadata": {},
   "source": [
    "Metropolis referenced from: [here](https://arxiv.org/pdf/0803.0217.pdf)\n"
   ]
  },
  {
   "cell_type": "code",
   "execution_count": null,
   "id": "6608fd5e-d64e-44d8-89f5-efcf30fe162c",
   "metadata": {},
   "outputs": [],
   "source": []
  }
 ],
 "metadata": {
  "kernelspec": {
   "display_name": "Python 3 (ipykernel)",
   "language": "python",
   "name": "python3"
  },
  "language_info": {
   "codemirror_mode": {
    "name": "ipython",
    "version": 3
   },
   "file_extension": ".py",
   "mimetype": "text/x-python",
   "name": "python",
   "nbconvert_exporter": "python",
   "pygments_lexer": "ipython3",
   "version": "3.7.3"
  }
 },
 "nbformat": 4,
 "nbformat_minor": 5
}
