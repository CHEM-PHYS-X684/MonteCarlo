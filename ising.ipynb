{
 "cells": [
  {
   "cell_type": "markdown",
   "id": "50786a9d-708a-4c54-9a6d-4799ceaffebd",
   "metadata": {
    "tags": []
   },
   "source": [
    "# Introduction to the Monte Carlo method\n",
    "\n",
    "Start by defining the Gibbs distribution:\n",
    "$$P(\\alpha) = e^{-E(\\alpha)/kT}$$\n",
    "this expression, defines the probability of observing a particular configuration of spins, $\\alpha$. \n",
    "As you can see, the probability of $\\alpha$ decays exponentially with increasing energy of $\\alpha$, $E(\\alpha)$,\n",
    "where $k$ is the Boltzmann constant, $k = 1.38064852 \\times 10^{-23} J/K$\n",
    "and $T$ is the temperature in Kelvin. \n",
    "\n",
    "## What defines the energy of a configuration of spins? \n",
    "Given a configuration of spins (e.g., $\\uparrow\\downarrow\\downarrow\\uparrow\\downarrow$) we can define the energy using what is referred to as an Ising Hamiltonian:\n",
    "$$ \\hat{H}' = \\frac{\\hat{H}}{k} = \\frac{J}{k}\\sum_{<ij>} s_is_j,$$\n",
    "where, $s_i=1$ if the $i^{th}$ spin is `up` and $s_i=-1$ if it is `down`, and the brackets $<ij>$ indicate a sum over spins that are connected,\n",
    "and $J$ is a constant that determines the energy scale. \n",
    "The energy here has been divided by the Boltzmann constant to yield units of temperature. \n",
    "Let's consider the following case, which has the sites connected in a single 1D line:\n",
    "$$\\alpha = \\uparrow-\\downarrow-\\downarrow-\\uparrow-\\downarrow.$$ \n",
    "What is the energy of such a configuration?\n",
    "$$ E(\\alpha)' = J/k(-1 + 1 - 1 - 1) = \\frac{E(\\alpha)}{k} = -2J/k$$\n",
    "\n",
    "## Properties\n",
    "For any fixed state, $\\alpha$, the `magnetization` ($M$) is proportional to the _excess_ number of spins pointing up or down while the energy is given by the\n",
    "Hamiltonian:\n",
    "$$M(\\alpha) = N_{\\text{up}}(\\alpha) - N_{\\text{down}}(\\alpha).$$\n",
    "As a dynamical, fluctuating system, each time you measure the magnetization, the system might be in a different state ($\\alpha$) and so you'll get a different number!\n",
    "However, we already know what the probability of measuring any particular $\\alpha$ is, so in order to compute the average magnetization, $\\left<M\\right>$, we just need to multiply the magnetization of each possible configuration times the probability of it being measured, and then add them all up!\n",
    "$$ \\left<M\\right> = \\sum_\\alpha M(\\alpha)P(\\alpha).$$\n",
    "In fact, any average value can be obtained by adding up the value of an individual configuration multiplied by it's probability:\n",
    "$$ \\left<E\\right> = \\sum_\\alpha E(\\alpha)P(\\alpha).$$\n",
    "\n",
    "This means that to obtain any average value (also known as an `expectation value`) computationally, we must compute the both the value and probability of all possible configurations. This becomes extremely expensive as the number of spins ($N$) increases. "
   ]
  },
  {
   "cell_type": "code",
   "execution_count": 127,
   "id": "8cc20c5d-c248-47d2-80ed-d650eb5c243f",
   "metadata": {},
   "outputs": [
    {
     "name": "stdout",
     "output_type": "stream",
     "text": [
      " Initialized config to:  [1 0 0 0 0 0 1 0]\n",
      " Energy of       [1 0 0 0 0 0 1 0]  is  4.04\n",
      " Probability of  [1 0 0 0 0 0 1 0]  is  0.017597472415623396\n"
     ]
    }
   ],
   "source": [
    "import numpy as np\n",
    "import matplotlib as mpl\n",
    "from matplotlib import pyplot as plt\n",
    "import montecarlo\n",
    "import random\n",
    "\n",
    "# boltzmann constant, k = 1.38064852 × 10-23 m^2 kg s-2 K-1\n",
    "N = 8\n",
    "\n",
    "\n",
    "conf = montecarlo.SpinConfig1D(N=N)\n",
    "conf.initialize(M=2)\n",
    "ham = montecarlo.IsingHamiltonian1D(-1.0, 1.01)\n",
    "\n",
    "Ei = ham.expectation_value(conf)\n",
    "Pi = np.e**(-Ei)\n",
    "print(\" Energy of      \", conf.config, \" is \", Ei)\n",
    "print(\" Probability of \", conf.config, \" is \", Pi)\n"
   ]
  },
  {
   "cell_type": "markdown",
   "id": "10a45589-0d1a-4952-8289-80c16a1d7859",
   "metadata": {
    "tags": []
   },
   "source": [
    "# Question 1\n",
    "How many configurations are possible for:"
   ]
  },
  {
   "cell_type": "markdown",
   "id": "fc768faf-ac45-447b-b6e5-a8da98e1e6e2",
   "metadata": {},
   "source": [
    "(a) N=10?"
   ]
  },
  {
   "cell_type": "code",
   "execution_count": null,
   "id": "b3233cea-f5e5-4bc4-933a-a97869aa698a",
   "metadata": {},
   "outputs": [],
   "source": []
  },
  {
   "cell_type": "markdown",
   "id": "8b052fb8-4a0a-486c-b19f-cebb6ebe558a",
   "metadata": {},
   "source": [
    "(b) N=100?"
   ]
  },
  {
   "cell_type": "code",
   "execution_count": null,
   "id": "0ffbb5a4-fab4-465a-a037-defcadf2bdc1",
   "metadata": {},
   "outputs": [],
   "source": []
  },
  {
   "cell_type": "markdown",
   "id": "3f6dd036-5535-4a12-9cc5-99ee947d458c",
   "metadata": {},
   "source": [
    "(c) N=1000?"
   ]
  },
  {
   "cell_type": "code",
   "execution_count": null,
   "id": "f14d7c52-3a4a-4079-b57a-65fdcefa756d",
   "metadata": {},
   "outputs": [],
   "source": []
  },
  {
   "cell_type": "markdown",
   "id": "953ea21f-d5b6-4928-857d-12a17d6c9c1d",
   "metadata": {},
   "source": [
    "# Sampling\n",
    "These calculation pose a drastic problem from a practical perspective. \n",
    " As $N$ becomes large it is evident that\n",
    "computations become a daunting task if calculated in this manner.\n",
    " Thus a better numerical alternative would be to use a simulation to generate data over\n",
    "the ‘representative states’. \n",
    "Because each computed value of a configuration gets weighted by it's probability, very high energy states (which have negligible probabilities due to the Boltzmann distribution) will not contribute to the overall sum.  \n",
    "This is a form of biased sampling which\n",
    "essentially boils down to satisfying the following condition where\n",
    "`generated frequency` = `actual probability`.\n",
    "\n",
    "An expectation value of any quantity, $A$, computed (using the Canonical Ensemble) can also be defined as:\n",
    "$$\\left<A\\right> = \\frac{1}{Z}\\int e^{-E(\\alpha)/T}A(\\alpha)d\\alpha,$$\n",
    "where $Z$ is referred to as the `partition function`, and is essentially a normalization constant:\n",
    "$$ Z = \\int e^{-E(\\alpha)/T}d\\alpha,$$ and\n",
    "$$ P(\\alpha) = \\frac{1}{Z}e^{-E(\\alpha)/T}.$$\n",
    "This probability gives the actual statistical weight with which the configuration\n",
    "$\\alpha$ occurs in the thermal equilibrium. We now want to consider the discrete case\n",
    "of the formal definitions above. If we are to consider a finite portion of the\n",
    "configuration space it would produces an average of the form:\n",
    "$$\n",
    "\\left<A\\right> = \\frac{\\displaystyle\\sum_\\alpha e^{-E'(\\alpha)/T}A(\\alpha)}{\\displaystyle\\sum_\\alpha e^{-E'(\\alpha)/T}}$$\n",
    "\n",
    "We could choose to randomly `sample` from this full set of configurations, but this will not converge quickly. "
   ]
  },
  {
   "cell_type": "code",
   "execution_count": null,
   "id": "b95cac9c-3dc7-40ea-ad97-7ed940e068a9",
   "metadata": {},
   "outputs": [],
   "source": []
  },
  {
   "cell_type": "code",
   "execution_count": 149,
   "id": "33785241-a4a4-449e-8cfe-7852324810f0",
   "metadata": {},
   "outputs": [
    {
     "name": "stdout",
     "output_type": "stream",
     "text": [
      "11111111\n",
      "01011010\n"
     ]
    }
   ],
   "source": [
    "import numpy as np\n",
    "import matplotlib as mpl\n",
    "from random import sample\n",
    "import copy as cp\n",
    "\n",
    "# boltzmann constant, k = 1.38064852 × 10-23 m^2 kg s-2 K-1\n",
    "energies = np.linspace(0, 10, 100);\n",
    "\n",
    "print(conf)\n",
    "conf.set_rand_config()\n",
    "\n",
    "print(conf)"
   ]
  },
  {
   "cell_type": "code",
   "execution_count": 178,
   "id": "80798cd6-6ca0-4c9e-8934-a29a16df28a4",
   "metadata": {},
   "outputs": [
    {
     "name": "stdout",
     "output_type": "stream",
     "text": [
      " Number of configurations:  256\n",
      " Critical Temperature:   0.90000000 \n",
      "     E:   -7.63283349\n",
      "     M:    4.85549011\n",
      "     EE:   4.58941716\n",
      "     MM:  34.03986342\n",
      " Critical Temperature:   1.00000000\n",
      " E =  -3.88449265 @ T =   2.00000000\n"
     ]
    },
    {
     "data": {
      "image/png": "[encoded data removed]",
      "text/plain": [
       "<Figure size 432x288 with 1 Axes>"
      ]
     },
     "metadata": {
      "needs_background": "light"
     },
     "output_type": "display_data"
    }
   ],
   "source": [
    "print(\" Number of configurations: \", conf.n_dim)\n",
    "n_samples = 100\n",
    "\n",
    "e_list = []\n",
    "e2_list = []\n",
    "m_list = []\n",
    "m2_list = []\n",
    "T_list = []\n",
    "\n",
    "ham.J = 1.0\n",
    "ham.mu = 0.1\n",
    "for Ti in range(1,100):\n",
    "    T = .1*Ti\n",
    "    # print(T)\n",
    "    E = 0.0\n",
    "    M = 0.0\n",
    "    Z = 0.0\n",
    "    EE = 0.0\n",
    "    MM = 0.0\n",
    "\n",
    "    T_list.append(T)\n",
    "    \n",
    "    # for i in range(n_samples):\n",
    "    for i in range(conf.n_dim):\n",
    "        # conf.set_rand_config()\n",
    "        conf.set_int_config(i)\n",
    "        Ei = ham.expectation_value(conf)\n",
    "        Zi = np.exp(-Ei/T)\n",
    "        E += Ei*Zi\n",
    "        EE += Ei*Ei*Zi\n",
    "        Mi = np.sum(2*conf.config-1)\n",
    "        M += Mi*Zi\n",
    "        MM += Mi*Mi*Zi\n",
    "        Z += Zi\n",
    "        \n",
    "    e_list.append(E/Z)\n",
    "    m_list.append(M/Z)\n",
    "    e2_list.append((EE/Z-E/Z*E/Z)/(T*T))\n",
    "    m2_list.append((MM/Z-M/Z*M/Z)/T)\n",
    "    # print(\" Sum Energy = %12.8f\" %(E))\n",
    "    # print(\" Sum Norm   = %12.8f\" %(Z))\n",
    "    # print(\" Average Energy = %12.8f\" %(E/Z))\n",
    "plt.plot(T_list, e_list, label=\"energy\");\n",
    "plt.plot(T_list, m_list, label=\"magnetization\");\n",
    "plt.plot(T_list, m2_list, label=\"Susceptibility\");\n",
    "plt.plot(T_list, e2_list, label=\"Heat Capacity\");\n",
    "plt.legend();\n",
    "\n",
    "Tc_ind = np.argmax(m2_list)\n",
    "print(\" Critical Temperature: %12.8f \" %(T_list[Tc_ind]))\n",
    "print(\"     E:  %12.8f\" %(e_list[Tc_ind]))\n",
    "print(\"     M:  %12.8f\" %(m_list[Tc_ind]))\n",
    "print(\"     EE: %12.8f\" %(e2_list[Tc_ind]))\n",
    "print(\"     MM: %12.8f\" %(m2_list[Tc_ind]))\n",
    "Tc2 = T_list[np.argmax(e2_list)]\n",
    "print(\" Critical Temperature: %12.8f\" %(Tc2))\n",
    "\n",
    "print(\" E = %12.8f @ T = %12.8f\"% (e_list[T_list.index(2.0)], 2.0))"
   ]
  },
  {
   "cell_type": "code",
   "execution_count": 271,
   "id": "be7441e8-d4f5-4371-b8b2-05bbb38cf7e9",
   "metadata": {},
   "outputs": [
    {
     "name": "stdout",
     "output_type": "stream",
     "text": [
      " Initialized config to:  [0 0 0 0 0 0 0 0]\n",
      "  -7.64536060\n"
     ]
    },
    {
     "data": {
      "image/png": "[encoded data removed]",
      "text/plain": [
       "<Figure size 432x288 with 1 Axes>"
      ]
     },
     "metadata": {
      "needs_background": "light"
     },
     "output_type": "display_data"
    }
   ],
   "source": [
    "n_samples = 10000\n",
    "T = .9\n",
    "Z = 0.0\n",
    "E = 0.0\n",
    "# Mavg = np.zeros(n_samples)\n",
    "# Eseries = np.zeros(n_samples)\n",
    "Eseries = []\n",
    "nburn = 1000\n",
    "Eavg = 0.0\n",
    "\n",
    "Ei = ham.expectation_value(conf)\n",
    "\n",
    "\n",
    "def sweep(conf, T):\n",
    "    for site_i in range(conf.N):\n",
    "        \n",
    "        new_conf, delta_e = ham.delta_e_for_flip(site_i, conf)\n",
    "\n",
    "        # prob_trans = 1.0 # probability of transitioning\n",
    "        accept = True\n",
    "        if delta_e >= 0:\n",
    "            # prob_trans = np.exp(-delta_e/T)\n",
    "            if random.random() > np.exp(-delta_e/T):\n",
    "                accept = False\n",
    "        if accept:\n",
    "            conf.config = new_conf.config\n",
    "        \n",
    "    \n",
    "conf = montecarlo.SpinConfig1D(N=N)\n",
    "conf.initialize(M=0)\n",
    "\n",
    "    \n",
    "for si in range(n_samples):\n",
    "    sweep(conf, T)\n",
    "    Ei = ham.expectation_value(conf)\n",
    "    if si > nburn:\n",
    "        if si == nburn + 1:\n",
    "            # Eavg = Ei/(n_samples-nburn-1)\n",
    "            Eseries.append(Ei)\n",
    "        else:\n",
    "            # Eavg += Ei/(n_samples-nburn-1)          \n",
    "            Eseries.append(Ei)\n",
    "        \n",
    "\n",
    "    \n",
    "# Eavg = Eavg/n_samples\n",
    "# print(Eavg)\n",
    "\n",
    "Eavg = np.zeros(len(Eseries))\n",
    "Estd = np.zeros(len(Eseries))\n",
    "Eavg[0] = Eseries[0]\n",
    "for i in range(1,len(Eseries)):\n",
    "    Eavg[i] = np.mean(Eseries[0:i])\n",
    "    Estd[i] = np.std(Eavg[0:i])\n",
    "    \n",
    "plt.plot(Eseries, label=\"Energy\")\n",
    "plt.plot(Eavg, label=\"avg(E)\")\n",
    "plt.plot(Estd, label=\"std(E)\")\n",
    "plt.legend()\n",
    "\n",
    "# plt.plot(Eavg)\n",
    "#plt.plot(Eseries/sum(Zseries))\n",
    "print(\" %12.8f\"%np.mean(Eseries))\n",
    "\n"
   ]
  },
  {
   "cell_type": "markdown",
   "id": "ce104601-9684-483d-b5c0-e004d4679a3c",
   "metadata": {},
   "source": [
    "Metropolis referenced from: [here](https://arxiv.org/pdf/0803.0217.pdf)\n"
   ]
  },
  {
   "cell_type": "code",
   "execution_count": null,
   "id": "6608fd5e-d64e-44d8-89f5-efcf30fe162c",
   "metadata": {},
   "outputs": [],
   "source": []
  },
  {
   "cell_type": "code",
   "execution_count": null,
   "id": "259d2762-c24b-47df-bde2-ee85797ca3b6",
   "metadata": {},
   "outputs": [],
   "source": []
  }
 ],
 "metadata": {
  "kernelspec": {
   "display_name": "Python 3 (ipykernel)",
   "language": "python",
   "name": "python3"
  },
  "language_info": {
   "codemirror_mode": {
    "name": "ipython",
    "version": 3
   },
   "file_extension": ".py",
   "mimetype": "text/x-python",
   "name": "python",
   "nbconvert_exporter": "python",
   "pygments_lexer": "ipython3",
   "version": "3.9.9"
  }
 },
 "nbformat": 4,
 "nbformat_minor": 5
}
